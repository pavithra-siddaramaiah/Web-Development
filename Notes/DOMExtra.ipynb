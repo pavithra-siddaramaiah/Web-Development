{
 "cells": [
  {
   "cell_type": "markdown",
   "metadata": {},
   "source": [
    "DOM- Document Object Model"
   ]
  },
  {
   "cell_type": "markdown",
   "metadata": {},
   "source": [
    "Whatever we do in the browser it always be included in the window object.\n",
    "window object will have the root access to the website\n",
    "\n",
    "We can access them using like window.history // shows the history\n",
    "window.history.forward() // shows the page that we had opened earlier\n",
    "window.history.back() //shows the previous page that we had opened\n",
    "\n",
    "Likewise we have the window.document //this contains the entire web page(html...)\n",
    "Inside the document object you can see n number of properties\n",
    "\n",
    "console.log(window.document)//this shows only the strings, arrays and just the html page\n",
    "\n",
    "console.dir(window.document) //gives the complete information inside the document object\n",
    "\n",
    "Forms that we use inside the html are the ones that carry the information to the backend.\n",
    "\n",
    "Accessing them is made so easy by the DOM by providing the DOMAPI's\n",
    "// document.forms\n"
   ]
  },
  {
   "cell_type": "markdown",
   "metadata": {},
   "source": [
    "Console object gives the access to the browser console\n",
    "\n",
    "This console helps the developers to log caertain results, alerts and warnings to the screen\n",
    "\n",
    "console is a part of window object\n",
    "\n",
    "WINDOW OBJECT IS SUPPLIED BY THE BROWSER OBJECT\n",
    "\n",
    "BOM ALLOWS THE JAVASCRIPT TO TALK TO THE BROWSER ABOUT THE THINGS OTHER THAN THE CONTENT OF THE WEBPAGE\n",
    "\n",
    "WINDOW OBJECT IS TEH ROOT ELEMENT OF THE WHOLE WEBSITE\n",
    "\n",
    "** EACH BROWSER TAB WILL HAVE ITS OWN WINDOW OBJECT **\n",
    "\n",
    "THERE IS NO NEED TO ADD THE WINDOW PREFIX TO THE WINDOW OBJECTS, WE CAN ACCESS THEM DIRECTLY\n",
    "Ex: Instead of typing window.document we can just enter document => it works the same"
   ]
  },
  {
   "cell_type": "markdown",
   "metadata": {},
   "source": [
    "WKT every website contains the html documnet and this document is represented in a model\n",
    "\n",
    "DOM is not a programming language, you can use DOM with any programming language not just the java script."
   ]
  }
 ],
 "metadata": {
  "language_info": {
   "name": "python"
  }
 },
 "nbformat": 4,
 "nbformat_minor": 2
}
