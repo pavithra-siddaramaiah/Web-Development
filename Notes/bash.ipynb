{
 "cells": [
  {
   "cell_type": "markdown",
   "metadata": {},
   "source": [
    "BASH = Bourne Again Shell\n",
    "Its a command line interpretter for the unix system\n"
   ]
  },
  {
   "cell_type": "markdown",
   "metadata": {},
   "source": [
    "Tips:\n",
    "\n",
    "Use option to move inbetween the path\n",
    "Ctrl A -> to the beginning\n",
    "ctrl E -> to the end\n",
    "Ctrl U -> to clear the line (that line you are currently using)\n",
    "\n",
    "pwd => print working directory\n",
    "mkdir - >to creae folders\n",
    "touch ->to create file\n",
    "rm -> to remove the files\n",
    "rm -r -> to remove directory\n",
    "\n",
    "\n"
   ]
  }
 ],
 "metadata": {
  "language_info": {
   "name": "python"
  }
 },
 "nbformat": 4,
 "nbformat_minor": 2
}
