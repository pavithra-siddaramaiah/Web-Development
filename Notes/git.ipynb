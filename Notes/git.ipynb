{
 "cells": [
  {
   "cell_type": "code",
   "execution_count": null,
   "metadata": {},
   "outputs": [],
   "source": [
    "git init \n",
    "git add filename  => staging area\n",
    "git commit -m \"My first commit\" => local repository\n",
    "git status => to check the status\n",
    "git log => gives all the logs \n",
    "git rm --cached -r  => to remove files from staging area\n",
    "git checkout filename => to remove the filenamele\n",
    "git diff filename => to check the changes in the updated file before commit\n",
    "\n",
    "get remote add origin URL => To add to remote repository\n",
    "\n",
    "git push -u origin main => to push the code to remote repository\n"
   ]
  },
  {
   "cell_type": "markdown",
   "metadata": {},
   "source": [
    "https://github.com/github/gitignore/blob/main/Node.gitignore\n",
    "\n",
    "use this to add the list of things to gitignore while using secret files "
   ]
  },
  {
   "cell_type": "markdown",
   "metadata": {},
   "source": [
    "Clone\n",
    "\n",
    "git clone URL\n",
    "\n",
    "Foolow the instructions given in their page to setup and start running the code\n",
    "example quakejs game , word mastermind\n",
    "\n",
    "\n",
    "Branch and Merge\n",
    "\n",
    "git branch name => specify the name and create your ouwn branch\n",
    "\n",
    "git branch => gives the status on which branch you are currently in\n",
    "\n",
    "git merge name => give the name to merge with main branch\n",
    "Always you should be on the main branch inorder to merge \n",
    "\n",
    "git checkout name => inorder to switch from between the branches.\n"
   ]
  },
  {
   "cell_type": "markdown",
   "metadata": {},
   "source": [
    "Rollback\n",
    "\n",
    "To rollback the last commit\n",
    "git reset --soft HEAD~1\n",
    "\n",
    "Inorder to reflect these changes on remote repository:\n",
    "git push origin main --force\n"
   ]
  }
 ],
 "metadata": {
  "language_info": {
   "name": "python"
  }
 },
 "nbformat": 4,
 "nbformat_minor": 2
}
