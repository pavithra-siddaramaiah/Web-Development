{
 "cells": [
  {
   "cell_type": "markdown",
   "metadata": {},
   "source": [
    "API : stands for Application Programming Interface.\n",
    "\n",
    "consider that in your project you have to incluse a weather data. For this you can contact the weather information providing website. But the question is you don't know how that website is build. In this case API plays a major role => it builds the interface between the 2, "
   ]
  },
  {
   "cell_type": "markdown",
   "metadata": {},
   "source": [
    "API endpoints:\n",
    "baseURL/endpoint\n",
    "ex: GET https://bored-api.appbrewery.com/random\n",
    "\n",
    "Query Parameters -  used for querying with the help of key value pair\n",
    "ex: GET https://bored-api.appbrewery.com/filter?type=education\n",
    "\n",
    "Multiple query parameters - & we use this operator\n",
    "GET https://bored-api.appbrewery.com/filter?type=education&price=0.1\n",
    "\n",
    "Path parameters\n",
    "/endpoint/{path-parameter}\n",
    "ex: GET https://bored-api.appbrewery.com/activity/3943506\n",
    "MAinly used for id, user name. which is always unique"
   ]
  },
  {
   "cell_type": "markdown",
   "metadata": {},
   "source": [
    "JSON -> stands for java script object notation\n"
   ]
  }
 ],
 "metadata": {
  "language_info": {
   "name": "python"
  }
 },
 "nbformat": 4,
 "nbformat_minor": 2
}
