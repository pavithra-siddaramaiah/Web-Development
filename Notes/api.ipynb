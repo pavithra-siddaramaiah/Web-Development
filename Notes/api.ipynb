{
 "cells": [
  {
   "cell_type": "markdown",
   "metadata": {},
   "source": [
    "API : stands for Application Programming Interface.\n",
    "\n",
    "consider that in your project you have to incluse a weather data. For this you can contact the weather information providing website. But the question is you don't know how that website is build. In this case API plays a major role => it builds the interface between the 2, "
   ]
  },
  {
   "cell_type": "markdown",
   "metadata": {},
   "source": [
    "API endpoints:\n",
    "baseURL/endpoint\n",
    "ex: GET https://bored-api.appbrewery.com/random\n",
    "\n",
    "Query Parameters -  used for querying with the help of key value pair\n",
    "ex: GET https://bored-api.appbrewery.com/filter?type=education\n",
    "\n",
    "Multiple query parameters - & we use this operator\n",
    "GET https://bored-api.appbrewery.com/filter?type=education&price=0.1\n",
    "\n",
    "Path parameters\n",
    "/endpoint/{path-parameter}\n",
    "ex: GET https://bored-api.appbrewery.com/activity/3943506\n",
    "MAinly used for id, user name. which is always unique"
   ]
  },
  {
   "cell_type": "markdown",
   "metadata": {},
   "source": [
    "JSON -> stands for java script object notation\n"
   ]
  },
  {
   "cell_type": "markdown",
   "metadata": {},
   "source": [
    "THE REST API\n",
    "\n",
    "Representational State Transfer - Application Programming Interface(REST API or RESTful API)\n",
    "\n",
    "API provide tools which are useful to build the software applicatons[tools can be provided using node.js express.js]\n",
    "\n",
    "REST api allows clients such as web application to access and manipulate resources using set of predefined operations:\n",
    "\n",
    "resources:  user/task data\n",
    "\n",
    "prdefined ops: predefined operations for users ans tasks could be like abilty to craete a new task or mark task as complete or something adavanced, uploading profile picture for user accout\n",
    "\n",
    "these predefined operations are going to allow a client like a web app go through a process like creating a frontend for a task manager\n",
    " \n",
    " We are working with representation of user and task\n",
    "\n",
    " data is stored in the database using rest api we can fetch the data and manipulate the data and perform all teh crud operations, so we are working with representaions of our users and tasks.\n",
    "\n",
    " wehen it comes to state transfer a rest api, the server is state wise. Satte has been trnsferred from the server to teh client. So each request from the client such as teh request from a web app contain everything needed fro the server to preocess the request. This included teh operation that gonna perform and all the data needed to perform that operation in order to work.\n",
    "\n",
    " Also includes things liek authentication, making sure teh user who is trying to the operation is successful"
   ]
  },
  {
   "cell_type": "markdown",
   "metadata": {},
   "source": [
    "Lets see the different crud operations and the command and the path(resource)\n",
    "\n",
    "The task resource\n",
    "\n",
    "Create: POST /tasks\n",
    "\n",
    "Read: GET /taks\n",
    "Read: GET /tasks :id\n",
    "\n",
    "Update: PATCH /tasks/ :id\n",
    "\n",
    "Delete: DELETE /tasks/ :id\n",
    "\n",
    "Look in the phone for request and resopnse sytanx and example\n",
    "\n"
   ]
  }
 ],
 "metadata": {
  "language_info": {
   "name": "python"
  }
 },
 "nbformat": 4,
 "nbformat_minor": 2
}
