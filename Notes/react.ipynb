{
 "cells": [
  {
   "cell_type": "markdown",
   "metadata": {},
   "source": [
    "React:\n",
    "\n",
    "JAVASCRIPT library for user interface\n",
    "\n",
    "root => its a root for the react, must be included in the dev element\n",
    "Add the required dependencies to the code, like react, react-dom\n",
    "\n",
    "React works by creating the JSX files. Behind the scenes html will be picked up by the compiler and get converted or compiled to a actual java script. Compiler comes from the module \"react\" that we imported.\n",
    "\n",
    "Inside javascript we have babel which is the js compiler\n",
    "it takes the next gen java script into a js which every browser can understand\n",
    "This includes compiling JSX to plain old javascript\n",
    "\n",
    "JSX stands for JavaScript XML. JSX allows us to write HTML in React. JSX makes it easier to write and add HTML in React."
   ]
  },
  {
   "cell_type": "markdown",
   "metadata": {},
   "source": [
    "ReactDOM.reander() => this function has 3 inputs => \n",
    "1. only one html expression, 2. where to use that html data, 3. callback function.\n",
    "\n",
    "only one html function should be used like h1, h2, p. Incase if we want to use more than one html expression then we will put it inside the div block that can be treated as a single expression\n",
    "\n",
    "import React from \"react\";\n",
    "import ReactDOM from \"react-dom\";\n",
    "\n",
    "ReactDOM.render(\n",
    "    <div>\n",
    "        <h1>Milk Products</h1>\n",
    "        <ul>\n",
    "            <li>Milk</li>\n",
    "            <li>Curd</li>\n",
    "            <li>Butter</li>\n",
    "        </ul>\n",
    "    </div>,\n",
    "    document.getElementById(\"root\");\n",
    ");\n",
    "\n",
    "\n",
    "We can also include js inside the react file by using the {} as shown in the below example\n",
    "import React from \"react\";\n",
    "import ReactDOM from \"react-dom\";\n",
    "\n",
    "const fname = \"Pavithra\";\n",
    "const lname = \"Siddaramaiah\";\n",
    "var today = new Date();\n",
    "var year = today.getFullYear();\n",
    "\n",
    "ReactDOM.render(\n",
    "  <div>\n",
    "    <p>Created by {fname + \" \" + lname}.</p>\n",
    "    <p>Copyright {year}</p>\n",
    "  </div>,\n",
    "  document.getElementById(\"root\")\n",
    ");\n"
   ]
  },
  {
   "cell_type": "markdown",
   "metadata": {},
   "source": [
    "JSX attributes and styling React Elements\n",
    "\n",
    "you can add the attributes like img, or anchor tags to the js file just like as in html but only thing that we have to make sure is the closing tag.\n",
    "\n",
    "html will work even without the clsoing tag for <img /> but its mandatory in the js and also make sure to add the type inside the img attribute\n",
    "\n",
    "If we want to style the file the we can give the className [camel case must be followed] and defin it in the cs file.\n"
   ]
  },
  {
   "cell_type": "markdown",
   "metadata": {},
   "source": [
    "Inline styling for React Elements\n",
    "\n",
    "import React from \"react\";\n",
    "import ReactDOM from \"react-dom\";\n",
    "\n",
    "const color = { color: \"red\", fontSize: \"75px\" };\n",
    "\n",
    "ReactDOM.render(\n",
    "  <h1 style={color}>Hello World!</h1>,\n",
    "  document.getElementById(\"root\")\n",
    ");\n",
    "\n",
    "Inorder to use the inline styling property make sure to put it in the square brackets as shown above beacuase javascript will only accept the styling property in terms of object"
   ]
  },
  {
   "cell_type": "markdown",
   "metadata": {},
   "source": [
    "React components:\n",
    "\n",
    "Componenets helps to divide the structure of the code into separate components\n",
    "Instead of loading everything inside the single index.js we can write create different jsx files and define the function inside them and return the required functionality. Then in the index.js file we will import those jsx files. Make sure to import the react module in each of the jsx files.\n",
    "\n",
    "furthermore we will reduce the index.js file by creating the app.jsx file."
   ]
  },
  {
   "cell_type": "markdown",
   "metadata": {},
   "source": [
    "ES6 - Export and Import modules:\n",
    "\n",
    "if the file contains only a single variable to export then default should be sufficient, but incase if we have more things to export then we use {a,b,c}\n",
    "ex: export default pi;\n",
    "export { doublePi, triplePi };\n",
    "\n",
    "Import also varies how we use the particular variable\n",
    "import React from \"react\";\n",
    "import ReactDOM from \"react-dom\";\n",
    "//import pi, { doublePi, triplePi } from \"./math\";\n",
    "//import * from \"./math\";\n",
    "import * as pi from \"./math\";\n",
    "\n",
    "ReactDOM.render(\n",
    "  <ul>\n",
    "    <li>{pi.default}</li>\n",
    "    <li>{pi.doublePi()}</li>\n",
    "    <li>{pi.triplePi()}</li>\n",
    "  </ul>,\n",
    "  document.getElementById(\"root\")\n",
    ");"
   ]
  }
 ],
 "metadata": {
  "language_info": {
   "name": "python"
  }
 },
 "nbformat": 4,
 "nbformat_minor": 2
}
