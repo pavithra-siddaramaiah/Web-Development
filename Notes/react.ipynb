{
 "cells": [
  {
   "cell_type": "markdown",
   "metadata": {},
   "source": [
    "React:\n",
    "\n",
    "JAVASCRIPT library for user interface\n",
    "\n",
    "root => its a root for the react, must be included in the dev element\n",
    "Add the required dependencies to the code, like react, react-dom\n",
    "\n",
    "React works by creating the JSX files. Behind the scenes html will be picked up by the compiler and get converted or compiled to a actual java script. Compiler comes from the module \"react\" that we imported.\n",
    "\n",
    "Inside javascript we have babel which is the js compiler\n",
    "it takes the next gen java script into a js which every browser can understand\n",
    "This includes compiling JSX to plain old javascript\n",
    "\n",
    "JSX stands for JavaScript XML. JSX allows us to write HTML in React. JSX makes it easier to write and add HTML in React."
   ]
  },
  {
   "cell_type": "markdown",
   "metadata": {},
   "source": [
    "ReactDOM.reander() => this function has 3 inputs => \n",
    "1. only one html expression, 2. where to use that html data, 3. callback function.\n",
    "\n",
    "only one html function should be used like h1, h2, p. Incase if we want to use more than one html expression then we will put it inside the div block that can be treated as a single expression\n",
    "\n",
    "import React from \"react\";\n",
    "import ReactDOM from \"react-dom\";\n",
    "\n",
    "ReactDOM.render(\n",
    "    <div>\n",
    "        <h1>Milk Products</h1>\n",
    "        <ul>\n",
    "            <li>Milk</li>\n",
    "            <li>Curd</li>\n",
    "            <li>Butter</li>\n",
    "        </ul>\n",
    "    </div>,\n",
    "    document.getElementById(\"root\");\n",
    ");\n",
    "\n",
    "\n",
    "We can also include js inside the react file by using the {} as shown in the below example\n",
    "import React from \"react\";\n",
    "import ReactDOM from \"react-dom\";\n",
    "\n",
    "const fname = \"Pavithra\";\n",
    "const lname = \"Siddaramaiah\";\n",
    "var today = new Date();\n",
    "var year = today.getFullYear();\n",
    "\n",
    "ReactDOM.render(\n",
    "  <div>\n",
    "    <p>Created by {fname + \" \" + lname}.</p>\n",
    "    <p>Copyright {year}</p>\n",
    "  </div>,\n",
    "  document.getElementById(\"root\")\n",
    ");\n"
   ]
  }
 ],
 "metadata": {
  "language_info": {
   "name": "python"
  }
 },
 "nbformat": 4,
 "nbformat_minor": 2
}
