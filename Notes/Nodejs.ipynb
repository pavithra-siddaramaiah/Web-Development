{
 "cells": [
  {
   "cell_type": "markdown",
   "metadata": {},
   "source": [
    "Lets understand the difference between the chrome and node.\n",
    "Both are runtime => this means they provide a kind a environment with all the necessary libraries which is required for running the code.\n",
    "\n",
    "when we give window command in the chrome console => it returns the object [this is because window is provided by the chrome runtime when javascript is running in the chrome application]\n",
    "\n",
    "whereas in case of node [running thr node in the terminal by providing node command] if we type window and click on enter window is not provided because it doesn't have a window"
   ]
  },
  {
   "cell_type": "markdown",
   "metadata": {},
   "source": [
    "npm is a tool that get installed while installing the node on the machine.\n",
    "npm has a plently of pre-defined templates, using which we can build the applications.\n",
    "N number of templates like validating the email, etc"
   ]
  },
  {
   "cell_type": "markdown",
   "metadata": {},
   "source": [
    "package-lock-json, contains a little more information than package.json, and make teh application more faster and more secure.\n",
    "Conatins the exact version of all our dependencies and also where they are fetched from. maintained by npm and we should not edit it.\n",
    "\n",
    "nodemon is installed to get the current status and shows the update as we change the code. no need to run node app.js each time we make changes."
   ]
  }
 ],
 "metadata": {
  "language_info": {
   "name": "python"
  }
 },
 "nbformat": 4,
 "nbformat_minor": 2
}
