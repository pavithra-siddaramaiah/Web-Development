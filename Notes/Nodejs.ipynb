{
 "cells": [
  {
   "cell_type": "markdown",
   "metadata": {},
   "source": [
    "Lets understand the difference between the chrome and node.\n",
    "Both are runtime => this means they provide a kind a environment with all the necessary libraries which is required for running the code.\n",
    "\n",
    "when we give window command in the chrome console => it returns the object [this is because window is provided by the chrome runtime when javascript is running in the chrome application]\n",
    "\n",
    "whereas in case of node [running thr node in the terminal by providing node command] if we type window and click on enter window is not provided because it doesn't have a window"
   ]
  },
  {
   "cell_type": "markdown",
   "metadata": {},
   "source": [
    "npm is a tool that get installed while installing the node on the machine.\n",
    "npm has a plently of pre-defined templates, using which we can build the applications.\n",
    "N number of templates like validating the email,chalk, yargs, etc"
   ]
  },
  {
   "cell_type": "markdown",
   "metadata": {},
   "source": [
    "package-lock-json, contains a little more information than package.json, and make teh application more faster and more secure.\n",
    "Conatins the exact version of all our dependencies and also where they are fetched from. maintained by npm and we should not edit it.\n",
    "\n",
    "nodemon is installed to get the current status and shows the update as we change the code. no need to run node app.js each time we make changes."
   ]
  },
  {
   "cell_type": "markdown",
   "metadata": {},
   "source": [
    "used different npm modules like 'validator', 'chalk', 'yargs'.\n",
    "\n",
    "Out of which most used is yargs, yargs.argv returns an object like shown below\n",
    "{\n",
    "  _: [ 'add' ],\n",
    "  title: 'My new note',\n",
    "  body: 'Starting my new notes',\n",
    "  '$0': 'app.js'\n",
    "}\n",
    "command : node app.js add --title=\"My new note\" --body=\"Starting my new notes\"\n",
    "\n",
    "JSON.stringify() gives the json data from objects.\n",
    "Vice versa can be done using JSON.parse()"
   ]
  },
  {
   "cell_type": "markdown",
   "metadata": {},
   "source": [
    "Asynchronous Node.js\n",
    "======================\n",
    "\n",
    "suppose consider the below code\n",
    "console.log('Starting')\n",
    "setTimeout(() => {\n",
    "    console.log('Start after 2 seconds')\n",
    "}, 2000)\n",
    "setTimeOut(() => {\n",
    "condole.log('Start after 3 seconds)\n",
    "}, 3000)\n",
    "console.log('Stopping')\n",
    "\n",
    "///////////////OUTPUT/////////////////\n",
    "Starting\n",
    "Stopping\n",
    "Start after 2 seconds\n",
    "Start after 3 seconds\n",
    "\n",
    "This type of execution is asynchronous, This concept can be easily understood with the help of event loop concept\n",
    "Different parts of eveent loops are call stack, node api, call loopback\n",
    "\n",
    "when the program execution starts main function enter the call stack, it is always the first one to enter teh stack, on top of it log function is added, when it prints log function comes out of the stack. Next the setTimeOut functions enters but this is not a javascript function. It is provided by the node. Therefore it needs the node API so it enters into the node spi stage\n",
    "\n",
    "Same happens in the third line of the code also, so now execution goes to the last line of the code and and last log function gets executed.\n",
    "\n",
    "setTimeout function waits in the node api for 2 seconds and enters into call loopback function. the function from the call loop back enteres into the call stack only when it is empty. After executing the last of code, main function goes out of stack then the setTimeout function gets in there. further it calls the log function, once this is done, other setTimeout function follows the same path"
   ]
  },
  {
   "cell_type": "markdown",
   "metadata": {},
   "source": [
    "HTTP requests\n",
    "\n",
    "Fro making the http request to the json file for fteching the required value we install the postman-request module.\n",
    "\n",
    "This provides the wide range of functionality to interact with the server.\n",
    "\n",
    "Request function takes the input as shown in the code. Bsacially first input is an object"
   ]
  },
  {
   "cell_type": "markdown",
   "metadata": {},
   "source": [
    "request({url}, (error, response) => {\n",
    "\n",
    "})  ...... this is the actual syntax of the request. using json we can parse it directly without using the extra line of code.\n",
    "\n",
    "request({url: url, json:true}, (error, response) => {\n",
    "\n",
    "}) \n",
    "\n",
    "request({url, json:true} ,(error, response) => {\n",
    "    // Get it printed in terms of local errors like if network is not connected or any basic errors\n",
    "    if(error){\n",
    "        console.log(\"Check your connection and try again\")\n",
    "    }\n",
    "    //This is popprd up incase of any mistakes/typo in the url\n",
    "    else if(response.body.error){\n",
    "        console.log('check the url and try accessing again')\n",
    "    }\n",
    "    //if everything is fine then print the response\n",
    "    else {\n",
    "        console.log(response.body.main.humidity)\n",
    "    }\n",
    "    \n",
    "})"
   ]
  },
  {
   "cell_type": "markdown",
   "metadata": {},
   "source": [
    "Callback function\n",
    "====================\n",
    "\n",
    "Its a function which is passed as an argument to another function with the intension of calling it later on\n",
    "\n",
    "//Below code is synchronous and we have no issues\n",
    "const location = (address, callback) => {\n",
    "    const data = {longitude : 0, lattitude: 0 }\n",
    "    return data\n",
    "}\n",
    "\n",
    "//What if we make it asyncronous by adding setTimeout\n",
    "const location = (address, callback) => {\n",
    "    setTimeout(() => {\n",
    "    const data = {longitude : 0, lattitude: 0 }\n",
    "    return data\n",
    "    }, 2000)\n",
    "}\n",
    "the output of the above code is undefined, because javascript gonna wait for a long time and returns nothing\n",
    "\n",
    "//will update it with the help of callback function\n",
    "const location = (address, callback) => {\n",
    "    setTimeout(() => {\n",
    "    const data = {longitude : 0, lattitude: 0 }\n",
    "    callback(data)\n",
    "    }, 2000)\n",
    "}\n",
    "\n",
    "location('bangalore', (data) => {\n",
    "    console.log(data)\n",
    "})\n"
   ]
  },
  {
   "cell_type": "markdown",
   "metadata": {},
   "source": [
    "encodeURIComponent(address) => used to convert the address to string\n",
    "\n",
    "const geolocation = (address, callback) => {\n",
    "    // const url = 'https://api.openweathermap.org/geo/1.0/direct?q=' +encodeURIComponent(address)+ '&appid=58e09b1bf93d7c643f36e000603fd057'\n",
    "    const url = 'https://api.openweathermap.org/data/2.5/weather?q=' +encodeURIComponent(address)+ '&appid=58e09b1bf93d7c643f36e000603fd057'\n",
    "\n",
    "    request({url: url, json: true}, (error, response) => {\n",
    "        if(error){\n",
    "            callback('Check your connection and try again',undefined)\n",
    "        }\n",
    "        else if(response.body.error){\n",
    "            callback('check the url and try accessing again', undefined)\n",
    "        }\n",
    "        else{\n",
    "            callback(undefined, {\n",
    "                lattitude: response.body.coord.lat,\n",
    "                longitude: response.body.coord.lon\n",
    "            })\n",
    "        }\n",
    "    })\n",
    "}\n",
    "\n",
    "geolocation('India', (error, data) => {\n",
    "    console.log(error)\n",
    "    console.log(data)\n",
    "})\n"
   ]
  },
  {
   "cell_type": "markdown",
   "metadata": {},
   "source": [
    "Express\n",
    "==========\n",
    "\n",
    "Express is one of the npm library which makes it easy to craere the web servers with the node."
   ]
  },
  {
   "cell_type": "markdown",
   "metadata": {},
   "source": [
    "get sarted with running you application on the server\n",
    "\n",
    "const express = require('express')\n",
    "\n",
    "const app = express()\n",
    "\n",
    "app.get('/', (req, res) => {\n",
    "    res.send('Hello Express!!')\n",
    "})\n",
    "\n",
    "app.get('/help', (req, res) => {\n",
    "    res.send('Help Page')\n",
    "})\n",
    "\n",
    "app.get('/about', (req, res) => {\n",
    "    res.send('About page')\n",
    "})\n",
    "\n",
    "app.get('/weather', (req, res) => {\n",
    "    res.send('Weather forecast data')\n",
    "})\n",
    "\n",
    "\n",
    "app.listen(3000, () => {\n",
    "    console.log('server is running on port 3000')\n",
    "})\n",
    "//app.com\n",
    "//app.com/help\n",
    "//app.com/about"
   ]
  },
  {
   "cell_type": "markdown",
   "metadata": {},
   "source": [
    "SENDING HTML AND JSON\n",
    "========================\n",
    "\n",
    "app.get('/about', (req, res) => {\n",
    "    res.send({\n",
    "        name: 'pavithra',\n",
    "        age: 25\n",
    "    })\n",
    "})\n",
    "\n",
    "when we execute this block of code, express will detect the object and strigify it so that the web user can see it as the json data. [It cab be an object or an array of objects]"
   ]
  },
  {
   "cell_type": "markdown",
   "metadata": {},
   "source": [
    "We cannot use the relative path for importing the html files in the public folder, we must use the source path \n",
    "we make use of __dirname => this is present in the function that wraps our entire app.js. Remember the first line when we use the debugger. It conatins __filename also along with __dirname\n",
    "\n",
    "__dirname gives the complete path till the src folder, where as __filename gives it till /src/app.js\n",
    "\n",
    "We use the path module provided by the node.js to join the path as shown below:\n",
    "publicDirectory = path.join(__dirname, '../public')\n",
    "\n",
    "app.use(express.static(publicDirectory))  => this will renders the index.html page by default\n",
    "Also show the about.html and help.html pages if we replace with the index.html in the url\n",
    "\n",
    "so now we can remove the route options, all of these shown below:\n",
    "\n",
    "app.get('/', (req, res) => {\n",
    "    res.send('Hello Express!!')\n",
    "})\n",
    "\n",
    "app.get('/help', (req, res) => {\n",
    "    res.send('Help Page')\n",
    "})\n",
    "\n",
    "app.get('/about', (req, res) => {\n",
    "    res.send('About page')\n",
    "})"
   ]
  },
  {
   "cell_type": "markdown",
   "metadata": {},
   "source": [
    "With the express.static() we can only render the static files which are included inside the public folder, inorder to render the dynamic web pages we have to use handlebars.\n",
    "========================================================================================================================\n",
    "\n",
    "hbs[handlebars] makes it really easy to integrate with the express\n",
    "\n",
    "when we use the handlebars make sure that views folder is created inside the root folder not under teh public.\n",
    "\n",
    "Inside the views folds we will define the files with .hbs extension\n",
    "\n",
    "After installing the hbs library we have to set the view engine using app.set('view engine', 'hbs');\n",
    "\n",
    "We have to use the get and render methods inorder to access the files as shown below\n",
    "app.get('/', (req, res) => {\n",
    "    res.render('index',{\n",
    "        title: 'Weather App',\n",
    "        author: \"abc\"\n",
    "    })\n",
    "})\n",
    "\n",
    "we can pass the values dynamically into the index.hbs files\n",
    "<body>\n",
    "        <h1>{{title}}</h1>\n",
    "        <p>Written by {{author}}</p>\n",
    "    </body>\n"
   ]
  },
  {
   "cell_type": "markdown",
   "metadata": {},
   "source": []
  }
 ],
 "metadata": {
  "language_info": {
   "name": "python"
  }
 },
 "nbformat": 4,
 "nbformat_minor": 2
}
