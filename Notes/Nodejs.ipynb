{
 "cells": [
  {
   "cell_type": "markdown",
   "metadata": {},
   "source": [
    "Lets understand the difference between the chrome and node.\n",
    "Both are runtime => this means they provide a kind a environment with all the necessary libraries which is required for running the code.\n",
    "\n",
    "when we give window command in the chrome console => it returns the object [this is because window is provided by the chrome runtime when javascript is running in the chrome application]\n",
    "\n",
    "whereas in case of node [running thr node in the terminal by providing node command] if we type window and click on enter window is not provided because it doesn't have a window"
   ]
  }
 ],
 "metadata": {
  "language_info": {
   "name": "python"
  }
 },
 "nbformat": 4,
 "nbformat_minor": 2
}
