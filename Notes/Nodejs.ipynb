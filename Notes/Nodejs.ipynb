{
 "cells": [
  {
   "cell_type": "markdown",
   "metadata": {},
   "source": [
    "Lets understand the difference between the chrome and node.\n",
    "Both are runtime => this means they provide a kind a environment with all the necessary libraries which is required for running the code.\n",
    "\n",
    "when we give window command in the chrome console => it returns the object [this is because window is provided by the chrome runtime when javascript is running in the chrome application]\n",
    "\n",
    "whereas in case of node [running thr node in the terminal by providing node command] if we type window and click on enter window is not provided because it doesn't have a window"
   ]
  },
  {
   "cell_type": "markdown",
   "metadata": {},
   "source": [
    "npm is a tool that get installed while installing the node on the machine.\n",
    "npm has a plently of pre-defined templates, using which we can build the applications.\n",
    "N number of templates like validating the email, etc"
   ]
  },
  {
   "cell_type": "markdown",
   "metadata": {},
   "source": [
    "package-lock-json, contains a little more information than package.json, and make teh application more faster and more secure.\n",
    "Conatins the exact version of all our dependencies and also where they are fetched from. maintained by npm and we should not edit it.\n",
    "\n",
    "nodemon is installed to get the current status and shows the update as we change the code. no need to run node app.js each time we make changes."
   ]
  },
  {
   "cell_type": "markdown",
   "metadata": {},
   "source": [
    "used different npm modules like 'validator', 'chalk', 'yargs'.\n",
    "\n",
    "Out of which most used is yargs, yargs.argv returns an object like shown below\n",
    "{\n",
    "  _: [ 'add' ],\n",
    "  title: 'My new note',\n",
    "  body: 'Starting my new notes',\n",
    "  '$0': 'app.js'\n",
    "}\n",
    "command : node app.js add --title=\"My new note\" --body=\"Starting my new notes\"\n",
    "\n",
    "JSON.stringify() gives the json data from objects.\n",
    "Vice versa can be done using JSON.parse()"
   ]
  },
  {
   "cell_type": "markdown",
   "metadata": {},
   "source": [
    "Asynchronous Node.js\n",
    "======================\n",
    "\n",
    "suppose consider the below code\n",
    "console.log('Starting')\n",
    "setTimeout(() => {\n",
    "    console.log('Start after 2 seconds')\n",
    "}, 2000)\n",
    "setTimeOut(() => {\n",
    "condole.log('Start after 3 seconds)\n",
    "}, 3000)\n",
    "console.log('Stopping')\n",
    "\n",
    "///////////////OUTPUT/////////////////\n",
    "Starting\n",
    "Stopping\n",
    "Start after 2 seconds\n",
    "Start after 3 seconds\n",
    "\n",
    "This type of execution is asynchronous, This concept can be easily understood with the help of event loop concept\n",
    "Different parts of eveent loops are call stack, node api, call loopback\n",
    "\n",
    "when the program execution starts main function enter the call stack, it is always the first one to enter teh stack, on top of it log function is added, when it prints log function comes out of the stack. Next the setTimeOut functions enters but this is not a javascript function. It is provided by the node. Therefore it needs the node API so it enters into the node spi stage\n",
    "\n",
    "Same happens in the third line of the code also, so now execution goes to the last line of the code and and last log function gets executed.\n",
    "\n",
    "setTimeout function waits in the node api for 2 seconds and enters into call loopback function. the function from the call loop back enteres into the call stack only when it is empty. After executing the last of code, main function goes out of stack then the setTimeout function gets in there. further it calls the log function, once this is done, other setTimeout function follows the same path"
   ]
  },
  {
   "cell_type": "markdown",
   "metadata": {},
   "source": [
    "HTTP requests\n",
    "\n",
    "Fro making the http request to the json file for fteching the required value we install the postman-request module.\n",
    "\n",
    "This provides the wide range of functionality to interact with the server.\n",
    "\n",
    "Request function takes the input as shown in the code. Bsacially first input is an object"
   ]
  },
  {
   "cell_type": "markdown",
   "metadata": {},
   "source": [
    "request({url}, (error, response) => {\n",
    "\n",
    "})  ...... this is the actual syntax of the request. using json we can parse it directly without using the extra line of code.\n",
    "\n",
    "request({url: url, json:true}, (error, response) => {\n",
    "\n",
    "}) \n",
    "\n",
    "request({url, json:true} ,(error, response) => {\n",
    "    // Get it printed in terms of local errors like if network is not connected or any basic errors\n",
    "    if(error){\n",
    "        console.log(\"Check your connection and try again\")\n",
    "    }\n",
    "    //This is popprd up incase of any mistakes/typo in the url\n",
    "    else if(response.body.error){\n",
    "        console.log('check the url and try accessing again')\n",
    "    }\n",
    "    //if everything is fine then print the response\n",
    "    else {\n",
    "        console.log(response.body.main.humidity)\n",
    "    }\n",
    "    \n",
    "})"
   ]
  }
 ],
 "metadata": {
  "language_info": {
   "name": "python"
  }
 },
 "nbformat": 4,
 "nbformat_minor": 2
}
