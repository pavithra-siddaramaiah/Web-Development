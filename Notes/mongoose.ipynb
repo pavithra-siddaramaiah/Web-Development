{
 "cells": [
  {
   "cell_type": "markdown",
   "metadata": {},
   "source": [
    "Mongoose\n",
    "\n",
    "with the help of mongodb we can do the crus opertaions\n",
    "\n",
    "next challenge is how to set up a validation for my docs, defining which feilds are required/optional or what type of data we can expect from teh user\n",
    "\n",
    "This is all done by mongoose"
   ]
  },
  {
   "cell_type": "markdown",
   "metadata": {},
   "source": [
    "Connecting is to studio 3t is similar to that of the mongodb, please fins teh command below\n",
    "\n",
    "mongoose.connect('mongodb://127.0.0.1:27017/task-manager-api').then(() => {\n",
    "    console.log(\"Connected to MongoDB\");\n",
    "}).catch((error) => {\n",
    "    console.error(\"Error connecting to MongoDB:\", error);\n",
    "});\n",
    "\n",
    "I'm just using the promises insterad of the callback functions. task-manager-api is the database name\n",
    "\n",
    "const Task = mongoose.model('Task', {\n",
    "    description: {\n",
    "        type: String\n",
    "    },\n",
    "    completed: {\n",
    "        type: Boolean\n",
    "    }\n",
    "})\n",
    "=> This is how we create the collection and define/valide the fileds/documents inside the colelction\n",
    "\n",
    "we will create the instanace of the collections to add the docuents\n",
    "const task = new Task({\n",
    "    description: \"Doll Making\",\n",
    "    completed: true\n",
    "})\n",
    "\n",
    "Later will save the file using the below method and add the promises\n",
    "task.save().then(() => {\n",
    "    console.log(task)\n",
    "}).catch((error) => {\n",
    "    console.log(error)\n",
    "})"
   ]
  },
  {
   "cell_type": "markdown",
   "metadata": {},
   "source": [
    "other method that we can use is validate\n",
    "Advantage of this is we can define our own validation error and message as shoen below:\n",
    "age: {\n",
    "        type: Number,\n",
    "        required: true,\n",
    "        validate(value) {\n",
    "            if (value < 0) {\n",
    "                throw new Error('Age must be a positive number');\n",
    "            }\n",
    "        }\n",
    "    }\n",
    "\n",
    "    value is the value that entered for age\n",
    "\n",
    "\n",
    "Also we can use the nom module validator for best practices where we have n number of libraries defined for validation\n",
    "\n",
    "email: {\n",
    "        type: String,\n",
    "        required: true,\n",
    "        validate(value) {\n",
    "            if(!validator.isEmail(value)){\n",
    "                throw new Error('Email is invalid')\n",
    "            }\n",
    "        }\n",
    "    }\n",
    "\n",
    "    we can also add trim: true => this removes the extra space before and after the name/email, basically aa string\n",
    "\n",
    "    default: 0 => gives the default value as zero for Number type\n"
   ]
  }
 ],
 "metadata": {
  "language_info": {
   "name": "python"
  }
 },
 "nbformat": 4,
 "nbformat_minor": 2
}
