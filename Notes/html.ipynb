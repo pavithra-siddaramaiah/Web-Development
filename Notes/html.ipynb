{
 "cells": [
  {
   "cell_type": "markdown",
   "metadata": {},
   "source": [
    "https://developer.mozilla.org/en-US/docs/Web/"
   ]
  },
  {
   "cell_type": "markdown",
   "metadata": {},
   "source": [
    "# HTML INTRODUCTION\n",
    "\n",
    "Output that we receive the server will be 3 different formats\n",
    "1. html - responsible for content of a website, contains links, images, text\n",
    "2. css - responsible for styling of the website i.e how the website look, colour, shape of the button\n",
    "3. java script -  allows the website to actually do things, make it functional"
   ]
  },
  {
   "cell_type": "markdown",
   "metadata": {},
   "source": [
    "HTML\n",
    "\n",
    "1. It defines the content and structure of the website\n",
    "\n",
    "Hyper Text Markup Language\n",
    "- Hyper text : peices of text that can link to other document in a  - hyper links\n",
    "- markup language : shows the quotation\n",
    "markup is done to html by tags\n",
    "\n",
    "\n",
    "Heading Elements\n",
    "- contains opening tag and a closing tag\n",
    "<h1>hello world</h1>\n",
    "tags - <h1> and </h1>\n",
    "element - <h1> + hello world + </h1>\n",
    "\n",
    "Different tags are shown below:\n",
    "<h1>Heading 1</h1>\n",
    "<h2>Heading 2</h2>\n",
    ".... <h6>Heading 6</h6>\n",
    "\n",
    "Shows the heading with different font size\n",
    "\n",
    "- Dont use <h1> tag more than once in a file\n",
    "use other tags instead\n",
    "\n",
    "- Dont skip the levels like dont jump from h1 to h3\n",
    "\n",
    "- Each heading has its default size. You can change that by specifying inside a style element.\n",
    "\n",
    "** chnage your style like this.\n",
    "\n",
    "<h1> style=\"font-size:60px;\">Heading 1</h1>\n",
    "\n",
    "loren ipsum website -> to generate paragraphs.\n",
    "\n",
    "\n"
   ]
  },
  {
   "cell_type": "markdown",
   "metadata": {},
   "source": [
    "HTML STYLES\n",
    "The HTML Style attribute syntax:\n",
    "\n",
    "<tagname style=\"property:value;\">\n",
    "Where the property is a CSS property and value is a CSS Value.\n",
    "\n",
    "Background color: Defines the background color for an HTML element\n",
    "\n",
    "<body style=\"background-color:powderblue;\">\n",
    "Set background color for two different elements:\n",
    "<h1 style=\"background-color:powderblue;\">This is a heading</h1>\n",
    "<p style=\"background-color:tomato;\">This is a paragraph.</p>\n",
    "** Text color\n",
    "\n",
    "<h1 style=\"color:blue;\">This is a heading</h1>\n",
    "<p style=\"color:red;\">This is a paragraph.</p> \n",
    "** Fonts\n",
    "\n",
    "<h1 style=\"font-family:verdana;\">This is a heading</h1>\n",
    "<p style=\"font-family:courier;\">This is a paragraph.</p> \n",
    "** Text Size\n",
    "\n",
    "<h1 style=\"font-size:300%;\">This is a heading</h1>\n",
    "<p style=\"font-size:160%;\">This is a paragraph.</p> \n",
    "** Text alignment\n",
    "\n",
    "<h1 style=\"text-align:center;\">Centered Heading</h1>\n",
    "<p style=\"text-align:center;\">Centered paragraph.</p> "
   ]
  },
  {
   "cell_type": "markdown",
   "metadata": {},
   "source": [
    "HTML FORMATTING\n",
    "<b>      - Bold text\n",
    "<strong> - Important text\n",
    "<i>      - Italic text...often used to indicate a technical term, a phrase from another language, a thought, a ship name, etc.\n",
    "<em>     - Emphasized text. A screen reader will emphasize the text using verbal stress\n",
    "<mark>   - Marked text. Element that should be highlighted. You can use style to change the color.\n",
    "<small>  - Smaller text\n",
    "<del>    - Deleted text. Browsers usually strike a line through\n",
    "<ins>    - Inserted text... (into a document) Browsers usually underline this. Can be used after del. \n",
    "<sub>    - Subscript text...appears half a character below the normal line\n",
    "<sup>    - Superscript text...can be used for footnotes citation\n",
    "<address>- To Write the Address"
   ]
  },
  {
   "cell_type": "markdown",
   "metadata": {},
   "source": [
    "Paragraph element\n",
    "\n",
    "<p>This is a paragraph</p>\n",
    "separate text into different paragraph"
   ]
  },
  {
   "cell_type": "markdown",
   "metadata": {},
   "source": [
    "void elements\n",
    "Means forbidden putting any element inside the tage\n",
    "Horizontal rule element \n",
    "<hr /> there is no separate closing tag\n",
    "<p>This is a paragraph</p> this is a non void element.\n",
    "<hr />\n",
    "<p>Its a sencond paragraph</p>\n",
    "\n",
    "Break Element\n",
    "\n",
    "<p>\n",
    "This is a first line.<br />\n",
    "This is a second line<br />\n",
    "</p>\n"
   ]
  },
  {
   "cell_type": "markdown",
   "metadata": {},
   "source": [
    "List Element\n",
    "\n",
    "Unordered list - create bullet points, order of the items dont matter\n",
    "<ul>\n",
    "    <li>milk</li>\n",
    "    <li>Eggs</li>\n",
    "    <li>Flour</li>\n",
    "</ul>\n",
    "\n",
    "Ordered list - give the numbers in the order we entered the items\n",
    "<ol>\n",
    "    <li>milk</li>\n",
    "    <li>Eggs</li>\n",
    "    <li>Flour</li>\n",
    "</ol>"
   ]
  },
  {
   "cell_type": "markdown",
   "metadata": {},
   "source": [
    "Anchor Element\n",
    "Used to create the hyperlinks\n",
    "\n",
    "<tag attribute=value anotherattribute=value>content</tag>\n",
    "\n",
    "<a href=\"http://www.google.com\">This is a link</a>\n",
    "\n",
    "<a draggable=true>This is a link to Google</a>"
   ]
  },
  {
   "cell_type": "markdown",
   "metadata": {},
   "source": [
    "image element\n",
    "\n",
    "<img src=\"url\" />\n",
    "src -> source of the image\n",
    "url -> location of image\n",
    "\n",
    "<img src=\"https://picsum.photos/200\" />\n",
    "200 represents the size of the image\n",
    "\n",
    "<img src=\"https://picsum.photos/200\" alt=\"forest at sunset\" />\n",
    "\n",
    "alt -> alternate text description\n",
    "\n"
   ]
  },
  {
   "cell_type": "markdown",
   "metadata": {},
   "source": [
    "Absolute path and Relative path\n",
    "Absloute path - always starts the search from the beginning \n",
    "Relative path - start search keeping html file location as the reference\n",
    "\n",
    "we use relative apth in most of the cases\n",
    "current directory -  ./\n",
    "previous directory -  ../\n",
    "<img src=\"./rabbit.png\"  alt=\"rabbit\" />\n",
    "<img src=\"../dog.png\" alt = \"dog\" />\n",
    "<img src=\"../Folder1/Folder2/bird.png\" alt=\"bird\" />"
   ]
  },
  {
   "cell_type": "markdown",
   "metadata": {},
   "source": [
    "HTML Boilerplate\n",
    "- shows the structure of the code\n",
    "\n",
    "<!DOCKTYPE html> -- Tells the browser tht the following code written in html 5\n",
    "<html lang=\"en\"> -- language used is English\n",
    "    <head> -- code written under head is not visible to the user\n",
    "    <meta charset=\"UTF-8\">\n",
    "    <title>My Website</title> - web page tht gets desplayed in chrome\n",
    "    </head>\n",
    "\n",
    "    <body>\n",
    "        <h1>Hello World!>\n",
    "    </body>\n",
    "</html>"
   ]
  }
 ],
 "metadata": {
  "kernelspec": {
   "display_name": "Python 3",
   "language": "python",
   "name": "python3"
  },
  "language_info": {
   "codemirror_mode": {
    "name": "ipython",
    "version": 3
   },
   "file_extension": ".py",
   "mimetype": "text/x-python",
   "name": "python",
   "nbconvert_exporter": "python",
   "pygments_lexer": "ipython3",
   "version": "3.11.2"
  },
  "orig_nbformat": 4
 },
 "nbformat": 4,
 "nbformat_minor": 2
}
